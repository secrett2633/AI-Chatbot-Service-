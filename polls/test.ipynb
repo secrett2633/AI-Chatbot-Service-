{
 "cells": [
  {
   "cell_type": "code",
   "execution_count": 20,
   "metadata": {},
   "outputs": [
    {
     "data": {
      "text/plain": [
       "True"
      ]
     },
     "execution_count": 20,
     "metadata": {},
     "output_type": "execute_result"
    }
   ],
   "source": [
    "\n",
    "import os\n",
    "from dotenv import load_dotenv\n",
    "load_dotenv()"
   ]
  },
  {
   "cell_type": "code",
   "execution_count": null,
   "metadata": {},
   "outputs": [],
   "source": [
    "#Following is a conversation with an AI assistant. The assistant is helpful, creative, clever, and very friendly. "
   ]
  },
  {
   "cell_type": "code",
   "execution_count": 28,
   "metadata": {},
   "outputs": [],
   "source": [
    "import os\n",
    "import openai\n",
    "def answer(query):\n",
    "  openai.api_key = os.getenv(\"OPENAI_API_KEY\")\n",
    "  response = openai.ChatCompletion.create(\n",
    "      model = \"gpt-3.5-turbo\",\n",
    "      messages = [\n",
    "          {\"role\": \"system\", \"content\": \"Please answer the questions below in one line.\\n\"},\n",
    "          {\"role\": \"user\", \"content\": query}\n",
    "      ]\n",
    "  )\n",
    "  return response['choices'][0]['message']['content']"
   ]
  },
  {
   "cell_type": "code",
   "execution_count": 22,
   "metadata": {},
   "outputs": [],
   "source": [
    "import time\n",
    "import requests\n",
    "\n",
    "client_id = os.getenv(\"client_id\")\n",
    "client_secret = os.getenv(\"client_secret\")\n",
    "def get_translate(text, language):\n",
    "    if language: a='ko'; b = \"en\"\n",
    "    else: a='en'; b = \"ko\"\n",
    "    data = {'text' : text,#inputtext\n",
    "            'source' : a,#input lan\n",
    "            'target': b}#output lan\n",
    "\n",
    "    url = \"https://openapi.naver.com/v1/papago/n2mt\"\n",
    "\n",
    "    header = {\"X-Naver-Client-Id\":client_id,\n",
    "              \"X-Naver-Client-Secret\":client_secret}\n",
    "\n",
    "    response = requests.post(url, headers=header, data= data)\n",
    "    rescode = response.status_code\n",
    "\n",
    "    if(rescode==200):\n",
    "        t_data = response.json()\n",
    "        return response.json()['message']['result']['translatedText']\n",
    "    else:\n",
    "        print(\"Error Code:\" , rescode)\n",
    "        return 0"
   ]
  },
  {
   "cell_type": "code",
   "execution_count": 9,
   "metadata": {},
   "outputs": [
    {
     "data": {
      "text/plain": [
       "'Django는 파이썬으로 작성된 웹 어플리케이션 프레임워크입니다. Django는 데이터베이스, 템플릿, URL 라우팅 등의 작업을 간단하게 처리할 수 있도록 도와주며, 보안과 확장성에 중점을 둔 설계로 유명합니다. Django는 또한 여러 선발적인 라이브러리와 함께 제공되므로, 개발자들은 아주 적은 코드를 작성해서 빠르고 안전한 웹 어플리케이션을 만들어 낼 수 있습니다.'"
      ]
     },
     "execution_count": 9,
     "metadata": {},
     "output_type": "execute_result"
    }
   ],
   "source": [
    "# answer(\"Django에 대해 설명해줘\")"
   ]
  },
  {
   "cell_type": "code",
   "execution_count": 29,
   "metadata": {},
   "outputs": [
    {
     "data": {
      "text/plain": [
       "'장고는 강력하고 유지보수가 가능한 웹 애플리케이션을 빠르고 쉽게 개발하는 데 사용되는 고급 파이썬 웹 프레임워크이다.'"
      ]
     },
     "execution_count": 29,
     "metadata": {},
     "output_type": "execute_result"
    }
   ],
   "source": [
    "get_translate(answer(get_translate(\"Django에 대해 설명해줘\", True)), False)"
   ]
  }
 ],
 "metadata": {
  "kernelspec": {
   "display_name": ".venv",
   "language": "python",
   "name": "python3"
  },
  "language_info": {
   "codemirror_mode": {
    "name": "ipython",
    "version": 3
   },
   "file_extension": ".py",
   "mimetype": "text/x-python",
   "name": "python",
   "nbconvert_exporter": "python",
   "pygments_lexer": "ipython3",
   "version": "3.10.11"
  },
  "orig_nbformat": 4
 },
 "nbformat": 4,
 "nbformat_minor": 2
}
